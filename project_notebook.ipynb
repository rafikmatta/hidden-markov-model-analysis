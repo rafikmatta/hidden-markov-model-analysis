{
 "cells": [
  {
   "cell_type": "code",
   "execution_count": 1,
   "metadata": {
    "hideCode": false,
    "hidePrompt": false
   },
   "outputs": [],
   "source": [
    "import random\n",
    "import math\n",
    "import numpy as np\n",
    "import matplotlib.pyplot as plt\n",
    "import pandas as pd \n",
    "%matplotlib inline"
   ]
  },
  {
   "cell_type": "markdown",
   "metadata": {},
   "source": [
    "## Baum-Welch Algorithm Implemenation"
   ]
  },
  {
   "cell_type": "markdown",
   "metadata": {},
   "source": [
    "### Normalized Forward Algorithm Normalization Calculation"
   ]
  },
  {
   "cell_type": "code",
   "execution_count": 2,
   "metadata": {},
   "outputs": [],
   "source": [
    "def alpha_ct_calc(x,c_t,t,observations,a_matrix,b_matrix,big_t):\n",
    "    if t==big_t:\n",
    "        return c_t\n",
    "    else:\n",
    "        t = t + 1\n",
    "        temp1 = np.asarray(x*a_matrix)[0]\n",
    "        #print(temp1)\n",
    "        temp2 = np.asarray(b_matrix[observations[t],:])[0]\n",
    "        #print(temp2)\n",
    "        x= temp1*temp2\n",
    "        c = sum(x)\n",
    "        c_t.append(c)\n",
    "        x = x/c\n",
    "        return alpha_ct_calc(x,c_t,t,observations,a_matrix,b_matrix,big_t)"
   ]
  },
  {
   "cell_type": "markdown",
   "metadata": {},
   "source": [
    "### Normalized Forward Algorithm"
   ]
  },
  {
   "cell_type": "code",
   "execution_count": 3,
   "metadata": {
    "hideCode": false,
    "hidePrompt": false
   },
   "outputs": [],
   "source": [
    "def alpha_var(x,c_t,t,observations,a_matrix,b_matrix,big_t):\n",
    "    if t==big_t:\n",
    "        #print(x)\n",
    "        return(x)\n",
    "    else:\n",
    "        t = t + 1\n",
    "        temp1 = np.asarray(x*a_matrix)[0]\n",
    "        temp2 = np.asarray(b_matrix[observations[t],:])[0]\n",
    "        x= temp1*temp2\n",
    "        x = x/c_t[t]\n",
    "        return alpha_var(x,c_t,t,observations,a_matrix,b_matrix,big_t)"
   ]
  },
  {
   "cell_type": "markdown",
   "metadata": {},
   "source": [
    "### Normalized Backward Algorithm"
   ]
  },
  {
   "cell_type": "code",
   "execution_count": 4,
   "metadata": {
    "hideCode": false,
    "hidePrompt": false
   },
   "outputs": [],
   "source": [
    "def beta_var(x,c_t,t,observations,a_matrix,b_matrix,small_t):\n",
    "    if t==small_t:\n",
    "        return(x) \n",
    "    else:\n",
    "        t = t - 1\n",
    "        x_new = np.zeros(len(x))\n",
    "        for i in range(0,len(x)):\n",
    "            temp1 = np.asarray(a_matrix[i,:])[0]\n",
    "            #print(temp1)\n",
    "            temp2 = np.asarray(b_matrix[observations[t+1],:])[0]\n",
    "            #print(temp2)\n",
    "            temp3 = temp1*temp2*x\n",
    "            #print(temp3)\n",
    "            x_new[i] = sum(temp3)\n",
    "        x_new = x_new/c_t[t]\n",
    "        return beta_var(x_new,c_t,t,observations,a_matrix,b_matrix,small_t)"
   ]
  },
  {
   "cell_type": "markdown",
   "metadata": {},
   "source": [
    "### Gamma Calculation"
   ]
  },
  {
   "cell_type": "code",
   "execution_count": 5,
   "metadata": {
    "hideCode": false,
    "hidePrompt": false
   },
   "outputs": [],
   "source": [
    "def gamma_vec(alpha,beta):\n",
    "    gamma = (alpha*beta)/sum(alpha*beta)\n",
    "    return(gamma)"
   ]
  },
  {
   "cell_type": "markdown",
   "metadata": {},
   "source": [
    "### Xi Calculation"
   ]
  },
  {
   "cell_type": "code",
   "execution_count": 6,
   "metadata": {
    "hideCode": false,
    "hidePrompt": false
   },
   "outputs": [],
   "source": [
    "def xi_matrix(alpha,beta,a_matrix,b_matrix,observation):\n",
    "    xi_matrix = np.empty([a_matrix.shape[0],a_matrix.shape[1]])\n",
    "    denominator = 0\n",
    "    \n",
    "    for k in range(0,a_matrix.shape[0]):\n",
    "        for l in range(0,a_matrix.shape[1]):\n",
    "            denominator = denominator + alpha[k]*a_matrix[k,l]*b_matrix[observation,l]*beta[l]\n",
    "\n",
    "    for i in range(0,a_matrix.shape[0]):\n",
    "        for j in range(0,a_matrix.shape[0]):\n",
    "            numerator = alpha[i]*a_matrix[i,j]*b_matrix[observation,j]*beta[j]\n",
    "            xi_matrix[i,j] = numerator/denominator\n",
    "            \n",
    "    return(xi_matrix)"
   ]
  },
  {
   "cell_type": "markdown",
   "metadata": {},
   "source": [
    "### Baum Welch Implementation"
   ]
  },
  {
   "cell_type": "code",
   "execution_count": 7,
   "metadata": {},
   "outputs": [],
   "source": [
    "def bw_algo(observations,pi_vector,a_matrix,b_matrix,alphabet,iterations):\n",
    "    \n",
    "    for update in range(0,iterations):\n",
    "        print(\"==========================================\")\n",
    "        print(\"Iteration #:\" + str(update))\n",
    "\n",
    "        #generic initializations\n",
    "        big_t = len(observations)\n",
    "        \n",
    "        gamma = np.zeros([big_t,pi_vector.shape[0]])\n",
    "        xi = np.zeros([big_t,a_matrix.shape[0],a_matrix.shape[1]])\n",
    "        \n",
    "        c_t = []\n",
    "        \n",
    "        alpha_1 = pi_vector*np.asarray(b_matrix[observations[0],:])\n",
    "        if(alpha_1.shape[0] == 1):\n",
    "            alpha_1 = alpha_1[0]\n",
    "        c = sum(alpha_1)\n",
    "        alpha_1 = alpha_1/c\n",
    "        c_t.append(c)\n",
    "        \n",
    "        alpha_ct = []\n",
    "        alpha_ct = alpha_ct_calc(alpha_1,c_t,0,observations,a_matrix,b_matrix,big_t-1)\n",
    "\n",
    "        beta_1 = np.ones(pi_vector.shape[0])\n",
    "        gamma = gamma_vec(alpha_1,beta_1)\n",
    "        \n",
    "        beta_t_plus_1 = np.ones(pi_vector.shape[0])\n",
    "        beta_t_plus_1 = beta_var(beta_1,alpha_ct,big_t-1,observations,a_matrix,b_matrix,1)\n",
    "\n",
    "        xi = xi_matrix(alpha_1,beta_t_plus_1,a_matrix,b_matrix,observations[1])\n",
    "\n",
    "        a_matrix_new = np.zeros([a_matrix.shape[0],a_matrix.shape[1]])\n",
    "        \n",
    "        #for a matrix(transition probabilities matrix)\n",
    "        for t in range(1,big_t-2):\n",
    "            alpha_t = alpha_var(alpha_1,alpha_ct,0,observations,a_matrix,b_matrix,t)\n",
    "            beta_t = beta_var(beta_1,alpha_ct,big_t-1,observations,a_matrix,b_matrix,t-1)\n",
    "            beta_t_plus_1 = beta_var(beta_1,alpha_ct,big_t-1,observations,a_matrix,b_matrix,t)\n",
    "            gamma = gamma + gamma_vec(alpha_t,beta_t)\n",
    "            xi = xi + xi_matrix(alpha_t,beta_t_plus_1,a_matrix,b_matrix,observations[t+1])\n",
    "\n",
    "        for i in range(0,a_matrix.shape[0]):\n",
    "            for j in range(0,a_matrix.shape[1]):\n",
    "                a_matrix_new[i,j] = xi[i,j]/gamma[i]\n",
    "                \n",
    "                \n",
    "        #for b matrix(emission prob matrix) updates\n",
    "        b_matrix_new = np.zeros([b_matrix.shape[0],b_matrix.shape[1]])\n",
    "        \n",
    "        for m in range(0,len(alphabet)):\n",
    "            gamma = gamma_vec(alpha_1,beta_1)\n",
    "            #t=0 calculations happen here\n",
    "            if(observations[t] == alphabet[m]):\n",
    "                num_vec = gamma\n",
    "            else:\n",
    "                num_vec = np.zeros([a_matrix.shape[0]])\n",
    "                \n",
    "            denom_vec = gamma \n",
    "            \n",
    "            #for loop starts from t=1->T\n",
    "            for t in range(1,big_t-1):\n",
    "                alpha_t = alpha_var(alpha_1,alpha_ct,0,observations,a_matrix,b_matrix,t)\n",
    "                beta_t = beta_var(beta_1,alpha_ct,big_t-1,observations,a_matrix,b_matrix,t-1)\n",
    "                gamma = gamma_vec(alpha_t,beta_t)\n",
    "                denom_vec = denom_vec + gamma\n",
    "                if(observations[t] == alphabet[m]):\n",
    "                    num_vec = num_vec + gamma\n",
    "               \n",
    "            result_vec = num_vec/denom_vec\n",
    "            \n",
    "            for j in range(0,b_matrix.shape[1]):\n",
    "                b_matrix_new[m,j] = result_vec[j]\n",
    "        \n",
    "        new_pi_vector = gamma_vec(alpha_1,beta_1)\n",
    "        \n",
    "        a_matrix = np.asmatrix(a_matrix_new)\n",
    "        b_matrix = np.asmatrix(b_matrix_new)\n",
    "        pi_vector = np.asarray(new_pi_vector)\n",
    "        \n",
    "        print(\"a_matrix: \")\n",
    "        print(a_matrix)\n",
    "        print(\"b_matrix: \")\n",
    "        print(b_matrix)\n",
    "        print(\"pi_vector: \")\n",
    "        print(pi_vector)\n",
    "    return(a_matrix,b_matrix,pi_vector)"
   ]
  },
  {
   "cell_type": "markdown",
   "metadata": {},
   "source": [
    "## Viterbi Algorithm"
   ]
  },
  {
   "cell_type": "code",
   "execution_count": 8,
   "metadata": {
    "hideCode": false,
    "hidePrompt": false
   },
   "outputs": [],
   "source": [
    "def viterbi(v,seq,a_matrix,b_matrix,observations,t,big_t):\n",
    "    if(t == big_t):\n",
    "        return(max(v[t]),np.argmax(v[t]))\n",
    "    else:\n",
    "        t= t+1\n",
    "        v_temp = np.zeros(v.shape[1])\n",
    "        seq_temp = np.zeros(seq.shape[1])\n",
    "        \n",
    "        for j in range(0,a_matrix.shape[1]):\n",
    "            v_temp[j] = v[t-1,0]*a_matrix[0,j]*b_matrix[observations[t],j]\n",
    "            seq_temp[j] = 0\n",
    "            for i in range(0,a_matrix.shape[0]):\n",
    "                temp_var = (v[t-1,i]*a_matrix[i,j]*b_matrix[observations[t],j])\n",
    "                if(temp_var > v_temp[j]):\n",
    "                    v_temp[j] = temp_var\n",
    "                    seq_temp[j] = i\n",
    "                    \n",
    "        #v_temp =v_temp/sum(v_temp)\n",
    "        v[t] = v_temp\n",
    "        seq[t] = seq_temp\n",
    "        print(v[t])\n",
    "        print(seq[t])\n",
    "        return viterbi(v,seq,a_matrix,b_matrix,observations,t,big_t)"
   ]
  },
  {
   "cell_type": "markdown",
   "metadata": {},
   "source": [
    "## Exploratory Data Analysis "
   ]
  },
  {
   "cell_type": "code",
   "execution_count": 9,
   "metadata": {
    "hideCode": false,
    "hidePrompt": false
   },
   "outputs": [],
   "source": [
    "data_set_1 = pd.read_csv('datatraining.csv')"
   ]
  },
  {
   "cell_type": "markdown",
   "metadata": {},
   "source": [
    "### Discretizing Attributes"
   ]
  },
  {
   "cell_type": "code",
   "execution_count": 10,
   "metadata": {
    "hideCode": false,
    "hidePrompt": false
   },
   "outputs": [],
   "source": [
    "new_data = []\n",
    "for data in data_set_1['Light']:\n",
    "    val = data\n",
    "    if val == 0:\n",
    "        new_data.append(0)\n",
    "    elif val > 0:\n",
    "        new_data.append(1)\n",
    "\n",
    "data_set_1['Light_Level'] = pd.DataFrame(new_data)"
   ]
  },
  {
   "cell_type": "code",
   "execution_count": 11,
   "metadata": {
    "hideCode": false,
    "hidePrompt": false
   },
   "outputs": [],
   "source": [
    "new_data = []\n",
    "for data in data_set_1['CO2']:\n",
    "    val = data\n",
    "    if (val > 400.00) & (val < 800.00):\n",
    "        new_data.append(0)\n",
    "    elif (val > 800) & (val < 1200):\n",
    "        new_data.append(1)\n",
    "    elif (val > 1200) & (val < 1600):\n",
    "        new_data.append(2)\n",
    "    elif (val > 1600):\n",
    "        new_data.append(3)\n",
    "\n",
    "data_set_1['CO2_Level'] = pd.DataFrame(new_data)"
   ]
  },
  {
   "cell_type": "code",
   "execution_count": 12,
   "metadata": {
    "hideCode": false,
    "hidePrompt": false
   },
   "outputs": [
    {
     "data": {
      "text/html": [
       "<div>\n",
       "<style scoped>\n",
       "    .dataframe tbody tr th:only-of-type {\n",
       "        vertical-align: middle;\n",
       "    }\n",
       "\n",
       "    .dataframe tbody tr th {\n",
       "        vertical-align: top;\n",
       "    }\n",
       "\n",
       "    .dataframe thead th {\n",
       "        text-align: right;\n",
       "    }\n",
       "</style>\n",
       "<table border=\"1\" class=\"dataframe\">\n",
       "  <thead>\n",
       "    <tr style=\"text-align: right;\">\n",
       "      <th></th>\n",
       "      <th>date</th>\n",
       "      <th>Temperature</th>\n",
       "      <th>Humidity</th>\n",
       "      <th>Light</th>\n",
       "      <th>CO2</th>\n",
       "      <th>HumidityRatio</th>\n",
       "      <th>Occupancy</th>\n",
       "      <th>Light_Level</th>\n",
       "      <th>CO2_Level</th>\n",
       "    </tr>\n",
       "  </thead>\n",
       "  <tbody>\n",
       "    <tr>\n",
       "      <th>1</th>\n",
       "      <td>2015-02-04 17:51:00</td>\n",
       "      <td>23.18</td>\n",
       "      <td>27.2720</td>\n",
       "      <td>426.0</td>\n",
       "      <td>721.25</td>\n",
       "      <td>0.004793</td>\n",
       "      <td>1</td>\n",
       "      <td>1.0</td>\n",
       "      <td>0.0</td>\n",
       "    </tr>\n",
       "    <tr>\n",
       "      <th>2</th>\n",
       "      <td>2015-02-04 17:51:59</td>\n",
       "      <td>23.15</td>\n",
       "      <td>27.2675</td>\n",
       "      <td>429.5</td>\n",
       "      <td>714.00</td>\n",
       "      <td>0.004783</td>\n",
       "      <td>1</td>\n",
       "      <td>1.0</td>\n",
       "      <td>0.0</td>\n",
       "    </tr>\n",
       "    <tr>\n",
       "      <th>3</th>\n",
       "      <td>2015-02-04 17:53:00</td>\n",
       "      <td>23.15</td>\n",
       "      <td>27.2450</td>\n",
       "      <td>426.0</td>\n",
       "      <td>713.50</td>\n",
       "      <td>0.004779</td>\n",
       "      <td>1</td>\n",
       "      <td>1.0</td>\n",
       "      <td>0.0</td>\n",
       "    </tr>\n",
       "    <tr>\n",
       "      <th>4</th>\n",
       "      <td>2015-02-04 17:54:00</td>\n",
       "      <td>23.15</td>\n",
       "      <td>27.2000</td>\n",
       "      <td>426.0</td>\n",
       "      <td>708.25</td>\n",
       "      <td>0.004772</td>\n",
       "      <td>1</td>\n",
       "      <td>1.0</td>\n",
       "      <td>0.0</td>\n",
       "    </tr>\n",
       "    <tr>\n",
       "      <th>5</th>\n",
       "      <td>2015-02-04 17:55:00</td>\n",
       "      <td>23.10</td>\n",
       "      <td>27.2000</td>\n",
       "      <td>426.0</td>\n",
       "      <td>704.50</td>\n",
       "      <td>0.004757</td>\n",
       "      <td>1</td>\n",
       "      <td>1.0</td>\n",
       "      <td>0.0</td>\n",
       "    </tr>\n",
       "  </tbody>\n",
       "</table>\n",
       "</div>"
      ],
      "text/plain": [
       "                  date  Temperature  Humidity  Light     CO2  HumidityRatio  \\\n",
       "1  2015-02-04 17:51:00        23.18   27.2720  426.0  721.25       0.004793   \n",
       "2  2015-02-04 17:51:59        23.15   27.2675  429.5  714.00       0.004783   \n",
       "3  2015-02-04 17:53:00        23.15   27.2450  426.0  713.50       0.004779   \n",
       "4  2015-02-04 17:54:00        23.15   27.2000  426.0  708.25       0.004772   \n",
       "5  2015-02-04 17:55:00        23.10   27.2000  426.0  704.50       0.004757   \n",
       "\n",
       "   Occupancy  Light_Level  CO2_Level  \n",
       "1          1          1.0        0.0  \n",
       "2          1          1.0        0.0  \n",
       "3          1          1.0        0.0  \n",
       "4          1          1.0        0.0  \n",
       "5          1          1.0        0.0  "
      ]
     },
     "execution_count": 12,
     "metadata": {},
     "output_type": "execute_result"
    }
   ],
   "source": [
    "data_set_1.head()"
   ]
  },
  {
   "cell_type": "code",
   "execution_count": 13,
   "metadata": {
    "hideCode": false,
    "hidePrompt": false
   },
   "outputs": [
    {
     "data": {
      "text/plain": [
       "Text(0,0.5,'CO2 Reading')"
      ]
     },
     "execution_count": 13,
     "metadata": {},
     "output_type": "execute_result"
    },
    {
     "data": {
      "image/png": "[encoded data removed]",
      "text/plain": [
       "<Figure size 720x720 with 1 Axes>"
      ]
     },
     "metadata": {},
     "output_type": "display_data"
    }
   ],
   "source": [
    "ax = data_set_1['CO2'].plot(figsize=(10,10),title='CO2 Reading vs Time')\n",
    "ax.set_xlabel(\"Time (t)\")\n",
    "ax.set_ylabel(\"CO2 Reading\")"
   ]
  },
  {
   "cell_type": "code",
   "execution_count": 14,
   "metadata": {
    "hideCode": false,
    "hidePrompt": false
   },
   "outputs": [
    {
     "data": {
      "text/plain": [
       "Text(0,0.5,'CO2 Level')"
      ]
     },
     "execution_count": 14,
     "metadata": {},
     "output_type": "execute_result"
    },
    {
     "data": {
      "image/png": "[encoded data removed]",
      "text/plain": [
       "<Figure size 720x720 with 1 Axes>"
      ]
     },
     "metadata": {},
     "output_type": "display_data"
    }
   ],
   "source": [
    "ax = data_set_1['CO2_Level'].plot(figsize=(10,10),title='CO2 Level vs Time')\n",
    "ax.set_xlabel(\"Time (t)\")\n",
    "ax.set_ylabel(\"CO2 Level\")"
   ]
  },
  {
   "cell_type": "code",
   "execution_count": 15,
   "metadata": {
    "hideCode": false,
    "hidePrompt": false
   },
   "outputs": [
    {
     "data": {
      "text/plain": [
       "Text(0,0.5,'Light Reading')"
      ]
     },
     "execution_count": 15,
     "metadata": {},
     "output_type": "execute_result"
    },
    {
     "data": {
      "image/png": "[encoded data removed]",
      "text/plain": [
       "<Figure size 720x720 with 1 Axes>"
      ]
     },
     "metadata": {},
     "output_type": "display_data"
    }
   ],
   "source": [
    "ax = data_set_1['Light'].plot(figsize=(10,10),title='Light Reading vs Time')\n",
    "ax.set_xlabel(\"Time (t)\")\n",
    "ax.set_ylabel(\"Light Reading\")"
   ]
  },
  {
   "cell_type": "code",
   "execution_count": 16,
   "metadata": {
    "hideCode": false,
    "hidePrompt": false
   },
   "outputs": [
    {
     "data": {
      "text/plain": [
       "Text(0,0.5,'Light Level')"
      ]
     },
     "execution_count": 16,
     "metadata": {},
     "output_type": "execute_result"
    },
    {
     "data": {
      "image/png": "[encoded data removed]",
      "text/plain": [
       "<Figure size 720x720 with 1 Axes>"
      ]
     },
     "metadata": {},
     "output_type": "display_data"
    }
   ],
   "source": [
    "ax = data_set_1['Light_Level'].plot(figsize=(10,10),title='Light Level vs Time')\n",
    "ax.set_xlabel(\"Time (t)\")\n",
    "ax.set_ylabel(\"Light Level\")"
   ]
  },
  {
   "cell_type": "code",
   "execution_count": 17,
   "metadata": {
    "hideCode": false,
    "hidePrompt": false
   },
   "outputs": [
    {
     "data": {
      "text/plain": [
       "Text(0,0.5,'Occupancy')"
      ]
     },
     "execution_count": 17,
     "metadata": {},
     "output_type": "execute_result"
    },
    {
     "data": {
      "image/png": "[encoded data removed]",
      "text/plain": [
       "<Figure size 720x720 with 1 Axes>"
      ]
     },
     "metadata": {},
     "output_type": "display_data"
    }
   ],
   "source": [
    "ax = data_set_1['Occupancy'].plot(figsize=(10,10),title='State(Occupancy) vs Time')\n",
    "ax.set_xlabel(\"Time (t)\")\n",
    "ax.set_ylabel(\"Occupancy\")"
   ]
  },
  {
   "cell_type": "code",
   "execution_count": 18,
   "metadata": {
    "hideCode": false,
    "hidePrompt": false
   },
   "outputs": [
    {
     "data": {
      "text/html": [
       "<div>\n",
       "<style scoped>\n",
       "    .dataframe tbody tr th:only-of-type {\n",
       "        vertical-align: middle;\n",
       "    }\n",
       "\n",
       "    .dataframe tbody tr th {\n",
       "        vertical-align: top;\n",
       "    }\n",
       "\n",
       "    .dataframe thead th {\n",
       "        text-align: right;\n",
       "    }\n",
       "</style>\n",
       "<table border=\"1\" class=\"dataframe\">\n",
       "  <thead>\n",
       "    <tr style=\"text-align: right;\">\n",
       "      <th></th>\n",
       "      <th>CO2</th>\n",
       "    </tr>\n",
       "  </thead>\n",
       "  <tbody>\n",
       "    <tr>\n",
       "      <th>count</th>\n",
       "      <td>8143.000000</td>\n",
       "    </tr>\n",
       "    <tr>\n",
       "      <th>mean</th>\n",
       "      <td>606.546243</td>\n",
       "    </tr>\n",
       "    <tr>\n",
       "      <th>std</th>\n",
       "      <td>314.320877</td>\n",
       "    </tr>\n",
       "    <tr>\n",
       "      <th>min</th>\n",
       "      <td>412.750000</td>\n",
       "    </tr>\n",
       "    <tr>\n",
       "      <th>25%</th>\n",
       "      <td>439.000000</td>\n",
       "    </tr>\n",
       "    <tr>\n",
       "      <th>50%</th>\n",
       "      <td>453.500000</td>\n",
       "    </tr>\n",
       "    <tr>\n",
       "      <th>75%</th>\n",
       "      <td>638.833333</td>\n",
       "    </tr>\n",
       "    <tr>\n",
       "      <th>max</th>\n",
       "      <td>2028.500000</td>\n",
       "    </tr>\n",
       "  </tbody>\n",
       "</table>\n",
       "</div>"
      ],
      "text/plain": [
       "               CO2\n",
       "count  8143.000000\n",
       "mean    606.546243\n",
       "std     314.320877\n",
       "min     412.750000\n",
       "25%     439.000000\n",
       "50%     453.500000\n",
       "75%     638.833333\n",
       "max    2028.500000"
      ]
     },
     "execution_count": 18,
     "metadata": {},
     "output_type": "execute_result"
    }
   ],
   "source": [
    "data_set_1[['CO2']].describe()"
   ]
  },
  {
   "cell_type": "code",
   "execution_count": 19,
   "metadata": {
    "hideCode": false,
    "hidePrompt": false
   },
   "outputs": [
    {
     "name": "stdout",
     "output_type": "stream",
     "text": [
      "Mean: 606.546243195\n",
      "Median: 453.5\n",
      "Variance: 98797.6136433\n"
     ]
    }
   ],
   "source": [
    "print(\"Mean: \" + str(data_set_1['CO2'].mean()))\n",
    "print(\"Median: \" + str(data_set_1['CO2'].median()))\n",
    "print(\"Variance: \" + str(data_set_1['CO2'].var()))"
   ]
  },
  {
   "cell_type": "code",
   "execution_count": 20,
   "metadata": {
    "hideCode": false,
    "hidePrompt": false
   },
   "outputs": [
    {
     "data": {
      "text/html": [
       "<div>\n",
       "<style scoped>\n",
       "    .dataframe tbody tr th:only-of-type {\n",
       "        vertical-align: middle;\n",
       "    }\n",
       "\n",
       "    .dataframe tbody tr th {\n",
       "        vertical-align: top;\n",
       "    }\n",
       "\n",
       "    .dataframe thead th {\n",
       "        text-align: right;\n",
       "    }\n",
       "</style>\n",
       "<table border=\"1\" class=\"dataframe\">\n",
       "  <thead>\n",
       "    <tr style=\"text-align: right;\">\n",
       "      <th></th>\n",
       "      <th>Light</th>\n",
       "    </tr>\n",
       "  </thead>\n",
       "  <tbody>\n",
       "    <tr>\n",
       "      <th>count</th>\n",
       "      <td>8143.000000</td>\n",
       "    </tr>\n",
       "    <tr>\n",
       "      <th>mean</th>\n",
       "      <td>119.519375</td>\n",
       "    </tr>\n",
       "    <tr>\n",
       "      <th>std</th>\n",
       "      <td>194.755805</td>\n",
       "    </tr>\n",
       "    <tr>\n",
       "      <th>min</th>\n",
       "      <td>0.000000</td>\n",
       "    </tr>\n",
       "    <tr>\n",
       "      <th>25%</th>\n",
       "      <td>0.000000</td>\n",
       "    </tr>\n",
       "    <tr>\n",
       "      <th>50%</th>\n",
       "      <td>0.000000</td>\n",
       "    </tr>\n",
       "    <tr>\n",
       "      <th>75%</th>\n",
       "      <td>256.375000</td>\n",
       "    </tr>\n",
       "    <tr>\n",
       "      <th>max</th>\n",
       "      <td>1546.333333</td>\n",
       "    </tr>\n",
       "  </tbody>\n",
       "</table>\n",
       "</div>"
      ],
      "text/plain": [
       "             Light\n",
       "count  8143.000000\n",
       "mean    119.519375\n",
       "std     194.755805\n",
       "min       0.000000\n",
       "25%       0.000000\n",
       "50%       0.000000\n",
       "75%     256.375000\n",
       "max    1546.333333"
      ]
     },
     "execution_count": 20,
     "metadata": {},
     "output_type": "execute_result"
    }
   ],
   "source": [
    "data_set_1[['Light']].describe()"
   ]
  },
  {
   "cell_type": "code",
   "execution_count": 21,
   "metadata": {
    "hideCode": false,
    "hidePrompt": false
   },
   "outputs": [
    {
     "name": "stdout",
     "output_type": "stream",
     "text": [
      "Mean: 119.519374514\n",
      "Median: 0.0\n",
      "Variance: 37929.8235028\n"
     ]
    }
   ],
   "source": [
    "print(\"Mean: \" + str(data_set_1['Light'].mean()))\n",
    "print(\"Median: \" + str(data_set_1['Light'].median()))\n",
    "print(\"Variance: \" + str(data_set_1['Light'].var()))"
   ]
  },
  {
   "cell_type": "markdown",
   "metadata": {},
   "source": [
    "# CO2"
   ]
  },
  {
   "cell_type": "code",
   "execution_count": 48,
   "metadata": {
    "hideCode": false,
    "hidePrompt": false
   },
   "outputs": [
    {
     "name": "stdout",
     "output_type": "stream",
     "text": [
      "==========================================\n",
      "Iteration #:0\n",
      "a_matrix: \n",
      "[[ 0.61322376  0.38615594]\n",
      " [ 0.68205793  0.3190169 ]]\n",
      "b_matrix: \n",
      "[[ 0.8558857   0.70968083]\n",
      " [ 0.09235772  0.21126904]\n",
      " [ 0.0271304   0.05424556]\n",
      " [ 0.02462618  0.02480457]]\n",
      "pi_vector: \n",
      "[ 0.33333333  0.66666667]\n",
      "==========================================\n",
      "Iteration #:1\n",
      "a_matrix: \n",
      "[[ 0.61924129  0.38047843]\n",
      " [ 0.67025546  0.3302304 ]]\n",
      "b_matrix: \n",
      "[[ 0.84874958  0.7220675 ]\n",
      " [ 0.0975571   0.20224499]\n",
      " [ 0.02876281  0.0514116 ]\n",
      " [ 0.0249305   0.02427591]]\n",
      "pi_vector: \n",
      "[ 0.37617259  0.62382741]\n",
      "==========================================\n",
      "Iteration #:2\n",
      "a_matrix: \n",
      "[[ 0.62379957  0.37602247]\n",
      " [ 0.661308    0.33900068]]\n",
      "b_matrix: \n",
      "[[ 0.84382231  0.7305985 ]\n",
      " [ 0.10118675  0.1959636 ]\n",
      " [ 0.02985447  0.04952013]\n",
      " [ 0.02513647  0.02391777]]\n",
      "pi_vector: \n",
      "[ 0.41479444  0.58520556]\n",
      "==========================================\n",
      "Iteration #:3\n",
      "a_matrix: \n",
      "[[ 0.62747004  0.37241471]\n",
      " [ 0.65393863  0.34626136]]\n",
      "b_matrix: \n",
      "[[ 0.84035543  0.73660354]\n",
      " [ 0.10375798  0.19151205]\n",
      " [ 0.03060309  0.0482225 ]\n",
      " [ 0.0252835   0.02366192]]\n",
      "pi_vector: \n",
      "[ 0.4501407  0.5498593]\n",
      "==========================================\n",
      "Iteration #:4\n",
      "a_matrix: \n",
      "[[ 0.63057835  0.36934831]\n",
      " [ 0.64757062  0.3525567 ]]\n",
      "b_matrix: \n",
      "[[ 0.83792877  0.74080854]\n",
      " [ 0.10556324  0.18838533]\n",
      " [ 0.03111606  0.04733299]\n",
      " [ 0.02539193  0.02347314]]\n",
      "pi_vector: \n",
      "[ 0.48292487  0.51707513]\n",
      "==========================================\n",
      "Iteration #:5\n",
      "a_matrix: \n",
      "[[ 0.63332899  0.36662759]\n",
      " [ 0.64183892  0.35823647]]\n",
      "b_matrix: \n",
      "[[ 0.83629748  0.74363645]\n",
      " [ 0.10677515  0.18628544]\n",
      " [ 0.03145432  0.04674624]\n",
      " [ 0.02547305  0.02333187]]\n",
      "pi_vector: \n",
      "[ 0.5137125  0.4862875]\n",
      "==========================================\n",
      "Iteration #:6\n",
      "a_matrix: \n",
      "[[ 0.63586225  0.36411724]\n",
      " [ 0.63648827  0.36354736]]\n",
      "b_matrix: \n",
      "[[ 0.83531721  0.74533694]\n",
      " [ 0.10749642  0.18503478]\n",
      " [ 0.03165297  0.04640147]\n",
      " [ 0.0255334   0.02322681]]\n",
      "pi_vector: \n",
      "[ 0.54296773  0.45703227]\n",
      "==========================================\n",
      "Iteration #:7\n",
      "a_matrix: \n",
      "[[ 0.63828396  0.36171443]\n",
      " [ 0.63132147  0.36868132]]\n",
      "b_matrix: \n",
      "[[ 0.83490729  0.74604984]\n",
      " [ 0.10778484  0.18453319]\n",
      " [ 0.03173122  0.04626539]\n",
      " [ 0.02557665  0.02315158]]\n",
      "pi_vector: \n",
      "[ 0.57108298  0.42891702]\n",
      "==========================================\n",
      "Iteration #:8\n",
      "a_matrix: \n",
      "[[ 0.64068311  0.35933222]\n",
      " [ 0.62616859  0.3738048 ]]\n",
      "b_matrix: \n",
      "[[ 0.83503257  0.74583656]\n",
      " [ 0.10766571  0.18473642]\n",
      " [ 0.03169716  0.04632387]\n",
      " [ 0.02560457  0.02310315]]\n",
      "pi_vector: \n",
      "[ 0.59839915  0.40160085]\n",
      "==========================================\n",
      "Iteration #:9\n",
      "a_matrix: \n",
      "[[ 0.64314401  0.35688778]\n",
      " [ 0.62086493  0.37907987]]\n",
      "b_matrix: \n",
      "[[ 0.83569568  0.74469368]\n",
      " [ 0.10713721  0.18564662]\n",
      " [ 0.03154977  0.04657849]\n",
      " [ 0.02561735  0.02308121]]\n",
      "pi_vector: \n",
      "[ 0.62521981  0.37478019]\n",
      "==========================================\n",
      "Iteration #:10\n",
      "a_matrix: \n",
      "[[ 0.64575703  0.35429206]\n",
      " [ 0.61523137  0.38468342]]\n",
      "b_matrix: \n",
      "[[ 0.83693643  0.74255424]\n",
      " [ 0.106171    0.1873112 ]\n",
      " [ 0.031279    0.0470463 ]\n",
      " [ 0.02561357  0.02308827]]\n",
      "pi_vector: \n",
      "[ 0.65182142  0.34817858]\n",
      "==========================================\n",
      "Iteration #:11\n",
      "a_matrix: \n",
      "[[ 0.64863043  0.35143803]\n",
      " [ 0.60905199  0.39082925]]\n",
      "b_matrix: \n",
      "[[ 0.83883781  0.73927798]\n",
      " [ 0.10470828  0.18982911]\n",
      " [ 0.03086415  0.04776253]\n",
      " [ 0.02558976  0.02313038]]\n",
      "pi_vector: \n",
      "[ 0.67846082  0.32153918]\n",
      "==========================================\n",
      "Iteration #:12\n",
      "a_matrix: \n",
      "[[ 0.65190683  0.34818432]\n",
      " [ 0.60204317  0.39779881]]\n",
      "b_matrix: \n",
      "[[ 0.8415403   0.73462771]\n",
      " [ 0.10265045  0.19336617]\n",
      " [ 0.03026992  0.04878717]\n",
      " [ 0.02553934  0.02321895]]\n",
      "pi_vector: \n",
      "[ 0.70538009  0.29461991]\n",
      "==========================================\n",
      "Iteration #:13\n",
      "a_matrix: \n",
      "[[ 0.65578964  0.34432867]\n",
      " [ 0.59380529  0.40598985]]\n",
      "b_matrix: \n",
      "[[ 0.84526874  0.72822475]\n",
      " [ 0.09984175  0.19818345]\n",
      " [ 0.02943901  0.05021732]\n",
      " [ 0.0254505   0.02337447]]\n",
      "pi_vector: \n",
      "[ 0.73280888  0.26719112]\n",
      "==========================================\n",
      "Iteration #:14\n",
      "a_matrix: \n",
      "[[ 0.66058976  0.33956038]\n",
      " [ 0.5837408   0.41599963]]\n",
      "b_matrix: \n",
      "[[ 0.85038122  0.71946841]\n",
      " [ 0.09603871  0.2046874 ]\n",
      " [ 0.02827851  0.05220991]\n",
      " [ 0.02530156  0.02363428]]\n",
      "pi_vector: \n",
      "[ 0.76096286  0.23903714]\n",
      "==========================================\n",
      "Iteration #:15\n",
      "a_matrix: \n",
      "[[ 0.66681521  0.33336777]\n",
      " [ 0.57090857  0.42877576]]\n",
      "b_matrix: \n",
      "[[ 0.85745701  0.7073902 ]\n",
      " [ 0.09085697  0.21351724]\n",
      " [ 0.02663523  0.05502268]\n",
      " [ 0.02505079  0.02406987]]\n",
      "pi_vector: \n",
      "[ 0.79003522  0.20996478]\n",
      "==========================================\n",
      "Iteration #:16\n",
      "a_matrix: \n",
      "[[ 0.67535494  0.32484392]\n",
      " [ 0.55376002  0.44589794]]\n",
      "b_matrix: \n",
      "[[ 0.86745324  0.69038904]\n",
      " [ 0.08368207  0.22569613]\n",
      " [ 0.02425297  0.05908611]\n",
      " [ 0.02461171  0.02482872]]\n",
      "pi_vector: \n",
      "[ 0.82017394  0.17982606]\n",
      "==========================================\n",
      "Iteration #:17\n",
      "a_matrix: \n",
      "[[ 0.68787562  0.31225199]\n",
      " [ 0.52968842  0.47009286]]\n",
      "b_matrix: \n",
      "[[ 0.88195532  0.66576645]\n",
      " [ 0.07354224  0.24287946]\n",
      " [ 0.02071503  0.06510811]\n",
      " [ 0.02378742  0.02624597]]\n",
      "pi_vector: \n",
      "[ 0.85142641  0.14857359]\n",
      "==========================================\n",
      "Iteration #:18\n",
      "a_matrix: \n",
      "[[ 0.70766631  0.29204688]\n",
      " [ 0.49449366  0.50599716]]\n",
      "b_matrix: \n",
      "[[ 0.90337226  0.62904028]\n",
      " [ 0.05906783  0.26769135]\n",
      " [ 0.01547766  0.07409256]\n",
      " [ 0.02208224  0.02917582]]\n",
      "pi_vector: \n",
      "[ 0.8836065  0.1163935]\n",
      "==========================================\n",
      "Iteration #:19\n",
      "a_matrix: \n",
      "[[ 0.74097235  0.25718191]\n",
      " [ 0.44295536  0.56024289]]\n",
      "b_matrix: \n",
      "[[ 0.93388957  0.57341224]\n",
      " [ 0.03933267  0.30394278]\n",
      " [ 0.00857315  0.08664766]\n",
      " [ 0.01820461  0.03599732]]\n",
      "pi_vector: \n",
      "[ 0.91598269  0.08401731]\n"
     ]
    }
   ],
   "source": [
    "a_matrix = np.matrix([[0.5,0.5],\n",
    "                      [0.6,0.4]])\n",
    "b_matrix = np.matrix([[0.2,0.1],\n",
    "                      [0.3,0.5],\n",
    "                      [0.2,0.3],\n",
    "                      [0.3,0.2]])\n",
    "pi_vector = np.array([0.2,0.8])\n",
    "\n",
    "delta_t = 100\n",
    "alphabet = [0,1,2,3]\n",
    "observations = data_set_1[pd.notnull(data_set_1['CO2_Level'])]['CO2_Level'].tolist()\n",
    "observations = [int(x) for x in observations]\n",
    "observations = observations[0:len(observations):delta_t]\n",
    "\n",
    "new_a_matrix, new_b_matrix, new_pi = bw_algo(observations,pi_vector,a_matrix,b_matrix,alphabet,20)"
   ]
  },
  {
   "cell_type": "code",
   "execution_count": 49,
   "metadata": {
    "hideCode": false,
    "hidePrompt": false
   },
   "outputs": [
    {
     "name": "stdout",
     "output_type": "stream",
     "text": [
      "[ 0.18976339  0.14736701]\n",
      "[ 1.  1.]\n",
      "[ 0.13131368  0.04734167]\n",
      "[ 0.  1.]\n",
      "[ 0.09086727  0.01936499]\n",
      "[ 0.  0.]\n",
      "[ 0.06287891  0.01340031]\n",
      "[ 0.  0.]\n",
      "[ 0.04351135  0.00927283]\n",
      "[ 0.  0.]\n",
      "[ 0.03010926  0.00641667]\n",
      "[ 0.  0.]\n",
      "[ 0.0208352   0.00444025]\n",
      "[ 0.  0.]\n",
      "[ 0.01441767  0.00307259]\n",
      "[ 0.  0.]\n",
      "[ 0.00997683  0.00212619]\n",
      "[ 0.  0.]\n",
      "[ 0.00029077  0.00077987]\n",
      "[ 0.  0.]\n",
      "[  1.35874600e-05   1.32798485e-04]\n",
      "[ 1.  1.]\n",
      "[  2.31369693e-06   2.26131629e-05]\n",
      "[ 1.  1.]\n",
      "[  3.93980441e-07   3.85060972e-06]\n",
      "[ 1.  1.]\n",
      "[  6.70876922e-08   6.55688691e-07]\n",
      "[ 1.  1.]\n",
      "[  2.71239655e-07   2.10640079e-07]\n",
      "[ 1.  1.]\n",
      "[  1.87694140e-07   6.76681533e-08]\n",
      "[ 0.  1.]\n",
      "[  1.29881783e-07   2.76794906e-08]\n",
      "[ 0.  0.]\n",
      "[  8.98764214e-08   1.91538298e-08]\n",
      "[ 0.  0.]\n",
      "[  6.21932570e-08   1.32541888e-08]\n",
      "[ 0.  0.]\n",
      "[  4.30368851e-08   9.17171777e-09]\n",
      "[ 0.  0.]\n",
      "[  2.97809372e-08   6.34670353e-09]\n",
      "[ 0.  0.]\n",
      "[  2.06080021e-08   4.39183223e-09]\n",
      "[ 0.  0.]\n",
      "[  1.42604562e-08   3.03908797e-09]\n",
      "[ 0.  0.]\n",
      "[  4.15612700e-10   1.11471970e-09]\n",
      "[ 0.  0.]\n",
      "[  1.94213326e-11   1.89816459e-10]\n",
      "[ 1.  1.]\n",
      "[  7.85216391e-11   6.09785625e-11]\n",
      "[ 1.  1.]\n",
      "[  2.28846749e-12   1.03835384e-11]\n",
      "[ 0.  1.]\n",
      "[  1.80908396e-13   1.76812744e-12]\n",
      "[ 1.  1.]\n",
      "[  7.31423743e-13   5.68011175e-13]\n",
      "[ 1.  1.]\n",
      "[  5.06135248e-13   1.82473665e-13]\n",
      "[ 0.  1.]\n",
      "[  3.50238685e-13   7.46404011e-14]\n",
      "[ 0.  0.]\n",
      "[  2.42360390e-13   5.16501390e-14]\n",
      "[ 0.  0.]\n",
      "[  1.67710082e-13   3.57411913e-14]\n",
      "[ 0.  0.]\n",
      "[  1.16053088e-13   2.47324166e-14]\n",
      "[ 0.  0.]\n",
      "[  8.03071533e-14   1.71144948e-14]\n",
      "[ 0.  0.]\n",
      "[  5.55714541e-14   1.18429968e-14]\n",
      "[ 0.  0.]\n",
      "[  3.84546879e-14   8.19519217e-15]\n",
      "[ 0.  0.]\n",
      "[  2.66101192e-14   5.67096114e-15]\n",
      "[ 0.  0.]\n",
      "[  1.84138393e-14   3.92422772e-15]\n",
      "[ 0.  0.]\n",
      "[  1.27421255e-14   2.71551203e-15]\n",
      "[ 0.  0.]\n",
      "[  8.81737697e-15   1.87909726e-15]\n",
      "[ 0.  0.]\n",
      "[  6.10150453e-15   1.30030966e-15]\n",
      "[ 0.  0.]\n",
      "[  4.22215787e-15   8.99796541e-16]\n",
      "[ 0.  0.]\n",
      "[  2.92167562e-15   6.22646927e-16]\n",
      "[ 0.  0.]\n",
      "[  2.02175966e-15   4.30863176e-16]\n",
      "[ 0.  0.]\n",
      "[  1.39903009e-15   2.98151438e-16]\n",
      "[ 0.  0.]\n",
      "[  9.68109732e-16   2.06316726e-16]\n",
      "[ 0.  0.]\n",
      "[  6.69918722e-16   1.42768359e-16]\n",
      "[ 0.  0.]\n",
      "[  4.63574613e-16   9.87937559e-17]\n",
      "[ 0.  0.]\n",
      "[  3.20787306e-16   6.83639308e-17]\n",
      "[ 0.  0.]\n",
      "[  2.21980438e-16   4.73069072e-17]\n",
      "[ 0.  0.]\n",
      "[  1.53607434e-16   3.27357341e-17]\n",
      "[ 0.  0.]\n",
      "[  1.06294248e-16   2.26526813e-17]\n",
      "[ 0.  0.]\n",
      "[  7.35541689e-17   1.56753463e-17]\n",
      "[ 0.  0.]\n",
      "[  5.08984811e-17   1.08471257e-17]\n",
      "[ 0.  0.]\n",
      "[  3.52210543e-17   7.50606297e-18]\n",
      "[ 0.  0.]\n",
      "[  2.43724889e-17   5.19409314e-18]\n",
      "[ 0.  0.]\n",
      "[  1.68654297e-17   3.59424157e-18]\n",
      "[ 0.  0.]\n",
      "[  1.16706472e-17   2.48716611e-18]\n",
      "[ 0.  0.]\n",
      "[  8.07592858e-18   1.72108501e-18]\n",
      "[ 0.  0.]\n",
      "[  5.58843237e-18   1.19096734e-18]\n",
      "[ 0.  0.]\n",
      "[  3.86711893e-18   8.24133144e-19]\n",
      "[ 0.  0.]\n",
      "[  2.67599353e-18   5.70288889e-19]\n",
      "[ 0.  0.]\n",
      "[  1.85175100e-18   3.94632128e-19]\n",
      "[ 0.  0.]\n",
      "[  1.28138642e-18   2.73080047e-19]\n",
      "[ 0.  0.]\n",
      "[  8.86701916e-19   1.88967666e-19]\n",
      "[ 0.  0.]\n",
      "[  2.58424115e-20   6.93122351e-20]\n",
      "[ 0.  0.]\n",
      "[  2.63214794e-22   3.36467476e-21]\n",
      "[ 1.  1.]\n",
      "[  1.27774292e-23   1.63333879e-22]\n",
      "[ 1.  1.]\n",
      "[  6.20264134e-25   7.92883652e-24]\n",
      "[ 1.  1.]\n",
      "[  6.39367894e-26   1.59902761e-25]\n",
      "[ 1.  1.]\n",
      "[  1.28942867e-27   3.22479760e-27]\n",
      "[ 1.  1.]\n",
      "[  5.61844083e-29   5.49124287e-28]\n",
      "[ 1.  1.]\n",
      "[  2.27157009e-28   1.76406250e-28]\n",
      "[ 1.  1.]\n",
      "[  1.57189550e-28   5.66705312e-29]\n",
      "[ 0.  1.]\n",
      "[  1.08773024e-28   2.31809405e-29]\n",
      "[ 0.  0.]\n",
      "[  7.52694480e-29   1.60408945e-29]\n",
      "[ 0.  0.]\n",
      "[  5.20854308e-29   1.11000801e-29]\n",
      "[ 0.  0.]\n",
      "[  3.60424073e-29   7.68110393e-30]\n",
      "[ 0.  0.]\n",
      "[  2.49408540e-29   5.31521910e-30]\n",
      "[ 0.  0.]\n",
      "[  1.72587306e-29   3.67805908e-30]\n",
      "[ 0.  0.]\n"
     ]
    },
    {
     "data": {
      "text/plain": [
       "(1.7258730573088994e-29, 0)"
      ]
     },
     "execution_count": 49,
     "metadata": {},
     "output_type": "execute_result"
    }
   ],
   "source": [
    "v_matrix = np.zeros([len(observations),len(new_pi)])\n",
    "seq_matrix = np.zeros([len(observations),len(new_pi)])\n",
    "v1 = pi_vector*np.asarray(new_b_matrix[observations[0],:])[0]\n",
    "#v1 = v1/sum(v1)\n",
    "seq1 = np.zeros(len(new_pi))\n",
    "v_matrix[0] = v1\n",
    "seq_matrix[0] = seq1\n",
    "viterbi(v_matrix,seq_matrix,new_a_matrix,new_b_matrix,observations,0,len(observations)-1)"
   ]
  },
  {
   "cell_type": "code",
   "execution_count": 50,
   "metadata": {},
   "outputs": [],
   "source": [
    "predicted_sequence = []\n",
    "T = v_matrix.shape[0]-1\n",
    "predicted_sequence.append(seq_matrix[T,np.argmax(np.argmax(v_matrix[T]))])\n",
    "for i in range(v_matrix.shape[0]-2,-1,-1):\n",
    "    predicted_sequence.append(seq_matrix[i,np.argmax(v_matrix[i+1])])"
   ]
  },
  {
   "cell_type": "code",
   "execution_count": 51,
   "metadata": {
    "hideCode": false,
    "hidePrompt": false
   },
   "outputs": [],
   "source": [
    "actual_sequence = data_set_1[pd.notnull(data_set_1['Occupancy'])]['Occupancy'].tolist()\n",
    "actual_sequence = actual_sequence[0:len(actual_sequence):delta_t]"
   ]
  },
  {
   "cell_type": "code",
   "execution_count": 52,
   "metadata": {
    "hideCode": false,
    "hidePrompt": false
   },
   "outputs": [
    {
     "name": "stdout",
     "output_type": "stream",
     "text": [
      "0.756097560976\n"
     ]
    }
   ],
   "source": [
    "correct = 0\n",
    "total = len(actual_sequence)\n",
    "for i in range(0,len(actual_sequence)):\n",
    "    difference = actual_sequence[i]-predicted_sequence[i]\n",
    "    if difference == 0.0:\n",
    "        correct = correct + 1\n",
    "print(float(correct)/float(total))\n",
    "    "
   ]
  },
  {
   "cell_type": "markdown",
   "metadata": {},
   "source": [
    "# Light Level"
   ]
  },
  {
   "cell_type": "code",
   "execution_count": 53,
   "metadata": {
    "hideCode": false,
    "hidePrompt": false
   },
   "outputs": [
    {
     "name": "stdout",
     "output_type": "stream",
     "text": [
      "==========================================\n",
      "Iteration #:0\n",
      "a_matrix: \n",
      "[[ 0.5847757   0.41453916]\n",
      " [ 0.59171927  0.40922718]]\n",
      "b_matrix: \n",
      "[[ 0.77236561  0.46070241]\n",
      " [ 0.22763439  0.53929759]]\n",
      "pi_vector: \n",
      "[ 0.09677419  0.90322581]\n",
      "==========================================\n",
      "Iteration #:1\n",
      "a_matrix: \n",
      "[[ 0.61253273  0.38743975]\n",
      " [ 0.54825904  0.45177851]]\n",
      "b_matrix: \n",
      "[[ 0.76653622  0.47090653]\n",
      " [ 0.23346378  0.52909347]]\n",
      "pi_vector: \n",
      "[ 0.04326763  0.95673237]\n",
      "==========================================\n",
      "Iteration #:2\n",
      "a_matrix: \n",
      "[[ 0.63931658  0.36089281]\n",
      " [ 0.50539353  0.4943248 ]]\n",
      "b_matrix: \n",
      "[[ 0.77476907  0.46211899]\n",
      " [ 0.22523093  0.53788101]]\n",
      "pi_vector: \n",
      "[ 0.01956494  0.98043506]\n",
      "==========================================\n",
      "Iteration #:3\n",
      "a_matrix: \n",
      "[[ 0.67162502  0.32867904]\n",
      " [ 0.45419633  0.5454024 ]]\n",
      "b_matrix: \n",
      "[[ 0.7990514   0.43302497]\n",
      " [ 0.2009486   0.56697503]]\n",
      "pi_vector: \n",
      "[ 0.00828682  0.99171318]\n",
      "==========================================\n",
      "Iteration #:4\n",
      "a_matrix: \n",
      "[[ 0.71888017  0.28109677]\n",
      " [ 0.38442299  0.61560676]]\n",
      "b_matrix: \n",
      "[[ 0.84682539  0.37504251]\n",
      " [ 0.15317461  0.62495749]]\n",
      "pi_vector: \n",
      "[ 0.00295283  0.99704717]\n",
      "==========================================\n",
      "Iteration #:5\n",
      "a_matrix: \n",
      "[[ 0.7921692   0.2054127 ]\n",
      " [ 0.29215233  0.71097069]]\n",
      "b_matrix: \n",
      "[[ 0.92030331  0.27767756]\n",
      " [ 0.07969669  0.72232244]]\n",
      "pi_vector: \n",
      "[  7.25343647e-04   9.99274656e-01]\n",
      "==========================================\n",
      "Iteration #:6\n",
      "a_matrix: \n",
      "[[ 0.86705056  0.12456952]\n",
      " [ 0.21519346  0.79662791]]\n",
      "b_matrix: \n",
      "[[ 0.97984976  0.15720697]\n",
      " [ 0.02015024  0.84279303]]\n",
      "pi_vector: \n",
      "[  8.00817145e-05   9.99919918e-01]\n",
      "==========================================\n",
      "Iteration #:7\n",
      "a_matrix: \n",
      "[[ 0.89355502  0.09660591]\n",
      " [ 0.19674192  0.81856361]]\n",
      "b_matrix: \n",
      "[[ 0.99712047  0.07889393]\n",
      " [ 0.00287953  0.92110607]]\n",
      "pi_vector: \n",
      "[  1.91481448e-06   9.99998085e-01]\n",
      "==========================================\n",
      "Iteration #:8\n",
      "a_matrix: \n",
      "[[ 0.89742996  0.0963041 ]\n",
      " [ 0.19834294  0.81178924]]\n",
      "b_matrix: \n",
      "[[  9.99640883e-01   5.21368531e-02]\n",
      " [  3.59116849e-04   9.47863147e-01]]\n",
      "pi_vector: \n",
      "[  5.98602882e-09   9.99999994e-01]\n",
      "==========================================\n",
      "Iteration #:9\n",
      "a_matrix: \n",
      "[[ 0.89823101  0.09741148]\n",
      " [ 0.19917872  0.80794438]]\n",
      "b_matrix: \n",
      "[[  9.99955296e-01   4.51146202e-02]\n",
      " [  4.47043884e-05   9.54885380e-01]]\n",
      "pi_vector: \n",
      "[  2.26792636e-12   1.00000000e+00]\n",
      "==========================================\n",
      "Iteration #:10\n",
      "a_matrix: \n",
      "[[ 0.89844775  0.09775254]\n",
      " [ 0.19936246  0.80686597]]\n",
      "b_matrix: \n",
      "[[  9.99994409e-01   4.33920102e-02]\n",
      " [  5.59138259e-06   9.56607990e-01]]\n",
      "pi_vector: \n",
      "[  1.06176368e-16   1.00000000e+00]\n",
      "==========================================\n",
      "Iteration #:11\n",
      "a_matrix: \n",
      "[[ 0.8985042   0.09783789]\n",
      " [ 0.19940197  0.80659806]]\n",
      "b_matrix: \n",
      "[[  9.99999300e-01   4.29759165e-02]\n",
      " [  7.00407510e-07   9.57024084e-01]]\n",
      "pi_vector: \n",
      "[  6.20601855e-22   1.00000000e+00]\n",
      "==========================================\n",
      "Iteration #:12\n",
      "a_matrix: \n",
      "[[ 0.89851833  0.09785856]\n",
      " [ 0.19941087  0.80653306]]\n",
      "b_matrix: \n",
      "[[  9.99999912e-01   4.28757458e-02]\n",
      " [  8.77714354e-08   9.57124254e-01]]\n",
      "pi_vector: \n",
      "[  4.54193586e-28   1.00000000e+00]\n",
      "==========================================\n",
      "Iteration #:13\n",
      "a_matrix: \n",
      "[[ 0.8985218   0.09786354]\n",
      " [ 0.19941294  0.80651738]]\n",
      "b_matrix: \n",
      "[[  9.99999989e-01   4.28516459e-02]\n",
      " [  1.10001268e-08   9.57148354e-01]]\n",
      "pi_vector: \n",
      "[  4.16510425e-35   1.00000000e+00]\n",
      "==========================================\n",
      "Iteration #:14\n",
      "a_matrix: \n",
      "[[ 0.89852264  0.09786474]\n",
      " [ 0.19941343  0.8065136 ]]\n",
      "b_matrix: \n",
      "[[  9.99999999e-01   4.28458481e-02]\n",
      " [  1.37864488e-09   9.57154152e-01]]\n",
      "pi_vector: \n",
      "[  4.78678929e-43   1.00000000e+00]\n",
      "==========================================\n",
      "Iteration #:15\n",
      "a_matrix: \n",
      "[[ 0.89852284  0.09786503]\n",
      " [ 0.19941354  0.80651269]]\n",
      "b_matrix: \n",
      "[[  1.00000000e+00   4.28444533e-02]\n",
      " [  1.72786419e-10   9.57155547e-01]]\n",
      "pi_vector: \n",
      "[  6.89469142e-52   1.00000000e+00]\n",
      "==========================================\n",
      "Iteration #:16\n",
      "a_matrix: \n",
      "[[ 0.89852289  0.0978651 ]\n",
      " [ 0.19941357  0.80651247]]\n",
      "b_matrix: \n",
      "[[  1.00000000e+00   4.28441177e-02]\n",
      " [  2.16554589e-11   9.57155882e-01]]\n",
      "pi_vector: \n",
      "[  1.24463473e-61   1.00000000e+00]\n",
      "==========================================\n",
      "Iteration #:17\n",
      "a_matrix: \n",
      "[[ 0.8985229   0.09786511]\n",
      " [ 0.19941358  0.80651242]]\n",
      "b_matrix: \n",
      "[[  1.00000000e+00   4.28440370e-02]\n",
      " [  2.71409674e-12   9.57155963e-01]]\n",
      "pi_vector: \n",
      "[  2.81596099e-72   1.00000000e+00]\n",
      "==========================================\n",
      "Iteration #:18\n",
      "a_matrix: \n",
      "[[ 0.89852291  0.09786512]\n",
      " [ 0.19941358  0.8065124 ]]\n",
      "b_matrix: \n",
      "[[  1.00000000e+00   4.28440176e-02]\n",
      " [  3.40160037e-13   9.57155982e-01]]\n",
      "pi_vector: \n",
      "[  7.98489571e-84   1.00000000e+00]\n",
      "==========================================\n",
      "Iteration #:19\n",
      "a_matrix: \n",
      "[[ 0.89852291  0.09786512]\n",
      " [ 0.19941358  0.8065124 ]]\n",
      "b_matrix: \n",
      "[[  1.00000000e+00   4.28440129e-02]\n",
      " [  4.26325456e-14   9.57155987e-01]]\n",
      "pi_vector: \n",
      "[  2.83772182e-96   1.00000000e+00]\n"
     ]
    }
   ],
   "source": [
    "a_matrix = np.matrix([[0.5,0.5],\n",
    "                      [0.6,0.4]])\n",
    "b_matrix = np.matrix([[0.7,0.3],\n",
    "                      [0.3,0.7]])\n",
    "pi_vector = np.array([0.2,0.8])\n",
    "\n",
    "delta_t = 100\n",
    "\n",
    "alphabet = [0,1]\n",
    "observations = data_set_1[pd.notnull(data_set_1['Light_Level'])]['Light_Level'].tolist()\n",
    "observations = [int(x) for x in observations]\n",
    "observations = observations[0:len(observations):delta_t]\n",
    "\n",
    "new_a_matrix, new_b_matrix, new_pi = bw_algo(observations,pi_vector,a_matrix,b_matrix,alphabet,20)"
   ]
  },
  {
   "cell_type": "code",
   "execution_count": 54,
   "metadata": {
    "hideCode": false,
    "hidePrompt": false
   },
   "outputs": [
    {
     "name": "stdout",
     "output_type": "stream",
     "text": [
      "[ 0.15269592  0.02645903]\n",
      "[ 1.  1.]\n",
      "[ 0.13720078  0.00091427]\n",
      "[ 0.  1.]\n",
      "[ 0.12327805  0.00057527]\n",
      "[ 0.  0.]\n",
      "[ 0.11076815  0.0005169 ]\n",
      "[ 0.  0.]\n",
      "[ 0.09952772  0.00046444]\n",
      "[ 0.  0.]\n",
      "[ 0.08942794  0.00041731]\n",
      "[ 0.  0.]\n",
      "[ 0.08035305  0.00037497]\n",
      "[ 0.  0.]\n",
      "[ 0.07219905  0.00033692]\n",
      "[ 0.  0.]\n",
      "[  2.76568002e-15   6.76304319e-03]\n",
      "[ 0.  0.]\n",
      "[  5.74960691e-17   5.22078647e-03]\n",
      "[ 1.  1.]\n",
      "[  4.43845605e-17   4.03022879e-03]\n",
      "[ 1.  1.]\n",
      "[  3.42630243e-17   3.11116805e-03]\n",
      "[ 1.  1.]\n",
      "[  2.64496217e-17   2.40169161e-03]\n",
      "[ 1.  1.]\n",
      "[  2.04180016e-17   1.85400547e-03]\n",
      "[ 1.  1.]\n",
      "[  3.69713866e-04   6.40637272e-05]\n",
      "[ 1.  1.]\n",
      "[  3.32196378e-04   2.21367262e-06]\n",
      "[ 0.  1.]\n",
      "[  2.98486056e-04   1.39287762e-06]\n",
      "[ 0.  0.]\n",
      "[  2.68196559e-04   1.25153245e-06]\n",
      "[ 0.  0.]\n",
      "[  2.40980752e-04   1.12453058e-06]\n",
      "[ 0.  0.]\n",
      "[  2.16526726e-04   1.01041649e-06]\n",
      "[ 0.  0.]\n",
      "[  1.94554223e-04   9.07882359e-07]\n",
      "[ 0.  0.]\n",
      "[  1.74811426e-04   8.15753097e-07]\n",
      "[ 0.  0.]\n",
      "[  6.69638223e-18   1.63749682e-05]\n",
      "[ 0.  0.]\n",
      "[  1.39211931e-19   1.26407905e-05]\n",
      "[ 1.  1.]\n",
      "[  1.07465788e-19   9.75816156e-06]\n",
      "[ 1.  1.]\n",
      "[  8.29590935e-20   7.53289258e-06]\n",
      "[ 1.  1.]\n",
      "[  6.40409503e-20   5.81507800e-06]\n",
      "[ 1.  1.]\n",
      "[  4.94369350e-20   4.48899699e-06]\n",
      "[ 1.  1.]\n",
      "[  8.95166957e-07   1.55113824e-07]\n",
      "[ 1.  1.]\n",
      "[  8.04328017e-07   5.35983841e-09]\n",
      "[ 0.  1.]\n",
      "[  7.22707149e-07   3.37249462e-09]\n",
      "[ 0.  0.]\n",
      "[  6.49368929e-07   3.03026367e-09]\n",
      "[ 0.  0.]\n",
      "[  5.83472858e-07   2.72276133e-09]\n",
      "[ 0.  0.]\n",
      "[  5.24263729e-07   2.44646342e-09]\n",
      "[ 0.  0.]\n",
      "[  4.71062970e-07   2.19820343e-09]\n",
      "[ 0.  0.]\n",
      "[  4.23260870e-07   1.97513614e-09]\n",
      "[ 0.  0.]\n",
      "[  3.80309587e-07   1.77470507e-09]\n",
      "[ 0.  0.]\n",
      "[  1.45682603e-20   3.56244298e-08]\n",
      "[ 0.  0.]\n",
      "[  3.02861393e-22   2.75005698e-08]\n",
      "[ 1.  1.]\n",
      "[  2.33796328e-22   2.12292896e-08]\n",
      "[ 1.  1.]\n",
      "[  1.80480986e-22   1.63881236e-08]\n",
      "[ 1.  1.]\n",
      "[  1.39323772e-22   1.26509460e-08]\n",
      "[ 1.  1.]\n",
      "[  2.52277042e-09   4.37143669e-10]\n",
      "[ 1.  1.]\n",
      "[  2.26676701e-09   1.51051619e-11]\n",
      "[ 0.  1.]\n",
      "[  2.03674209e-09   9.50440541e-12]\n",
      "[ 0.  0.]\n",
      "[  1.83005942e-09   8.53992599e-12]\n",
      "[ 0.  0.]\n",
      "[  1.64435031e-09   7.67331913e-12]\n",
      "[ 0.  0.]\n",
      "[  1.47748643e-09   6.89465302e-12]\n",
      "[ 0.  0.]\n",
      "[  1.32755540e-09   6.19500368e-12]\n",
      "[ 0.  0.]\n",
      "[  1.19283894e-09   5.56635272e-12]\n",
      "[ 0.  0.]\n",
      "[  1.07179311e-09   5.00149543e-12]\n",
      "[ 0.  0.]\n",
      "[  4.10564486e-23   1.00397202e-10]\n",
      "[ 0.  0.]\n",
      "[  8.53527666e-25   7.75024407e-11]\n",
      "[ 1.  1.]\n",
      "[  6.58887658e-25   5.98286426e-11]\n",
      "[ 1.  1.]\n",
      "[  5.08633713e-25   4.61852097e-11]\n",
      "[ 1.  1.]\n",
      "[  3.92643952e-25   3.56530501e-11]\n",
      "[ 1.  1.]\n",
      "[  3.03104708e-25   2.75226634e-11]\n",
      "[ 1.  1.]\n",
      "[  5.48839282e-12   9.51024380e-13]\n",
      "[ 1.  1.]\n",
      "[  4.93144668e-12   3.28619130e-14]\n",
      "[ 0.  1.]\n",
      "[  4.43101781e-12   2.06772325e-14]\n",
      "[ 0.  0.]\n",
      "[  3.98137101e-12   1.85789670e-14]\n",
      "[ 0.  0.]\n",
      "[  3.57735305e-12   1.66936275e-14]\n",
      "[ 0.  0.]\n",
      "[  3.21433367e-12   1.49996067e-14]\n",
      "[ 0.  0.]\n",
      "[  2.88815243e-12   1.34774902e-14]\n",
      "[ 0.  0.]\n",
      "[  2.59507112e-12   1.21098337e-14]\n",
      "[ 0.  0.]\n",
      "[  2.33173085e-12   1.08809630e-14]\n",
      "[ 0.  0.]\n",
      "[  8.93200254e-26   2.18418322e-13]\n",
      "[ 0.  0.]\n",
      "[  1.85688522e-27   1.68609809e-13]\n",
      "[ 1.  1.]\n",
      "[  1.43343773e-27   1.30159720e-13]\n",
      "[ 1.  1.]\n",
      "[  1.10655397e-27   1.00477860e-13]\n",
      "[ 1.  1.]\n",
      "[  8.54213381e-28   7.75647053e-14]\n",
      "[ 1.  1.]\n",
      "[  6.59417001e-28   5.98767083e-14]\n",
      "[ 1.  1.]\n",
      "[  1.19402287e-14   2.06899341e-15]\n",
      "[ 1.  1.]\n",
      "[  1.07285690e-14   7.14924695e-17]\n",
      "[ 0.  1.]\n",
      "[  9.63986502e-15   4.49841862e-17]\n",
      "[ 0.  0.]\n",
      "[  8.66163955e-15   4.04193218e-17]\n",
      "[ 0.  0.]\n",
      "[  7.78268156e-15   3.63176865e-17]\n",
      "[ 0.  0.]\n",
      "[  6.99291766e-15   3.26322733e-17]\n",
      "[ 0.  0.]\n",
      "[  6.28329671e-15   2.93208451e-17]\n",
      "[ 0.  0.]\n",
      "[  5.64568603e-15   2.63454510e-17]\n",
      "[ 0.  0.]\n",
      "[  2.16265449e-28   5.28843743e-16]\n",
      "[ 0.  0.]\n"
     ]
    },
    {
     "data": {
      "text/plain": [
       "(5.288437430871791e-16, 1)"
      ]
     },
     "execution_count": 54,
     "metadata": {},
     "output_type": "execute_result"
    }
   ],
   "source": [
    "v_matrix = np.zeros([len(observations),len(new_pi)])\n",
    "seq_matrix = np.zeros([len(observations),len(new_pi)])\n",
    "v1 = pi_vector*np.asarray(new_b_matrix[observations[0],:])[0]\n",
    "#v1 = v1/sum(v1)\n",
    "seq1 = np.zeros(len(new_pi))\n",
    "v_matrix[0] = v1\n",
    "seq_matrix[0] = seq1\n",
    "viterbi(v_matrix,seq_matrix,new_a_matrix,new_b_matrix,observations,0,len(observations)-1)"
   ]
  },
  {
   "cell_type": "code",
   "execution_count": 55,
   "metadata": {},
   "outputs": [],
   "source": [
    "predicted_sequence = []\n",
    "T = v_matrix.shape[0]-1\n",
    "predicted_sequence.append(seq_matrix[T,np.argmax(np.argmax(v_matrix[T]))])\n",
    "for i in range(v_matrix.shape[0]-2,-1,-1):\n",
    "    predicted_sequence.append(seq_matrix[i,np.argmax(v_matrix[i+1])])"
   ]
  },
  {
   "cell_type": "code",
   "execution_count": 56,
   "metadata": {
    "hideCode": false,
    "hidePrompt": false
   },
   "outputs": [],
   "source": [
    "actual_sequence = data_set_1[pd.notnull(data_set_1['Occupancy'])]['Occupancy'].tolist()\n",
    "actual_sequence = actual_sequence[0:len(actual_sequence):delta_t]"
   ]
  },
  {
   "cell_type": "code",
   "execution_count": 57,
   "metadata": {
    "hideCode": false,
    "hidePrompt": false
   },
   "outputs": [
    {
     "name": "stdout",
     "output_type": "stream",
     "text": [
      "0.756097560976\n"
     ]
    }
   ],
   "source": [
    "correct = 0\n",
    "total = len(actual_sequence)\n",
    "for i in range(0,len(actual_sequence)):\n",
    "    difference = actual_sequence[i]-predicted_sequence[i]\n",
    "    if difference == 0.0:\n",
    "        correct = correct + 1\n",
    "print(float(correct)/float(total))"
   ]
  },
  {
   "cell_type": "markdown",
   "metadata": {},
   "source": [
    "# TEST DATA"
   ]
  },
  {
   "cell_type": "code",
   "execution_count": null,
   "metadata": {
    "hideCode": false,
    "hidePrompt": false
   },
   "outputs": [],
   "source": [
    "a_matrix = np.matrix([[0.4,0.3,0.3],[0.3,0.4,0.3],[0.3,0.3,0.4]])\n",
    "b_matrix = np.matrix([[0.4,0.3,0.3],[0.3,0.4,0.3],[0.3,0.3,0.4]])\n",
    "alphabet = [0,1,2]\n",
    "observations = [0,0,0,0,0,1,1,1,1,0,1,2,1,1,2,1,1,0,0,0,0,0,0]\n",
    "pi_vector = np.array([0.3,0.4,0.3])\n",
    "new_a_matrix, new_b_matrix = bw_algo(observations,pi_vector,a_matrix,b_matrix,alphabet,5)\n",
    "\n",
    "v_matrix = np.zeros([len(observations),len(pi_vector)])\n",
    "seq_matrix = np.zeros([len(observations),len(pi_vector)])\n",
    "v1 = pi_vector*np.asarray(b_matrix[observations[0],:])[0]\n",
    "v1 = v1/sum(v1)\n",
    "seq1 = np.zeros(len(pi_vector))\n",
    "v_matrix[0] = v1\n",
    "seq_matrix[0] = seq1\n",
    "viterbi(v_matrix,seq_matrix,a_matrix,b_matrix,observations,0,len(observations)-1)"
   ]
  },
  {
   "cell_type": "code",
   "execution_count": null,
   "metadata": {},
   "outputs": [],
   "source": [
    "predicted_sequence = []\n",
    "for i in range(0,v_matrix.shape[0]):\n",
    "    predicted_sequence.append(seq_matrix[i,np.argmax(v_matrix[i])])\n",
    "predicted_sequence"
   ]
  }
 ],
 "metadata": {
  "celltoolbar": "Hide code",
  "hide_code_all_hidden": false,
  "kernelspec": {
   "display_name": "Python [conda env:ds8002]",
   "language": "python",
   "name": "conda-env-ds8002-py"
  },
  "language_info": {
   "codemirror_mode": {
    "name": "ipython",
    "version": 2
   },
   "file_extension": ".py",
   "mimetype": "text/x-python",
   "name": "python",
   "nbconvert_exporter": "python",
   "pygments_lexer": "ipython2",
   "version": "2.7.14"
  }
 },
 "nbformat": 4,
 "nbformat_minor": 2
}
